{
 "cells": [
  {
   "cell_type": "code",
   "execution_count": 5,
   "outputs": [
    {
     "name": "stdout",
     "output_type": "stream",
     "text": [
      "    broker    symbol  side        price    value                   ts\n",
      "0  binance  TOMOUSDT  SELL     0.992500   22.000  2023-05-11 01:10:01\n",
      "1  binance   ETHUSDT  SELL  1858.090000    0.123  2023-05-11 01:10:02\n",
      "2  binance   ARBUSDT  SELL     1.165388  912.000  2023-05-11 01:10:02\n",
      "3  binance   CFXUSDT  SELL     0.260386  729.000  2023-05-11 01:10:02\n",
      "4  binance   SUIUSDT  SELL     1.164729  571.300  2023-05-11 01:10:03\n"
     ]
    }
   ],
   "source": [
    "import pandas as pd\n",
    "dt=pd.read_csv(\"liq.csv\")\n",
    "print(dt.head())"
   ],
   "metadata": {
    "collapsed": false,
    "pycharm": {
     "name": "#%%\n"
    }
   }
  },
  {
   "cell_type": "code",
   "execution_count": 6,
   "outputs": [
    {
     "name": "stdout",
     "output_type": "stream",
     "text": [
      "    broker    symbol  side        price    value                   ts  \\\n",
      "0  binance  TOMOUSDT  SELL     0.992500   22.000  2023-05-11 01:10:01   \n",
      "1  binance   ETHUSDT  SELL  1858.090000    0.123  2023-05-11 01:10:02   \n",
      "2  binance   ARBUSDT  SELL     1.165388  912.000  2023-05-11 01:10:02   \n",
      "3  binance   CFXUSDT  SELL     0.260386  729.000  2023-05-11 01:10:02   \n",
      "4  binance   SUIUSDT  SELL     1.164729  571.300  2023-05-11 01:10:03   \n",
      "\n",
      "        amount  \n",
      "0    21.835000  \n",
      "1   228.545070  \n",
      "2  1062.833856  \n",
      "3   189.821321  \n",
      "4   665.409678  \n"
     ]
    }
   ],
   "source": [
    "dt[\"amount\"]=dt[\"price\"]*dt[\"value\"]\n",
    "print(dt.head())"
   ],
   "metadata": {
    "collapsed": false,
    "pycharm": {
     "name": "#%%\n"
    }
   }
  },
  {
   "cell_type": "code",
   "execution_count": 7,
   "outputs": [
    {
     "name": "stdout",
     "output_type": "stream",
     "text": [
      "          symbol         amount\n",
      "0  1000FLOKIUSDT   42652.700175\n",
      "1   1000LUNCBUSD    9768.184335\n",
      "2   1000LUNCUSDT  100575.513552\n",
      "3   1000PEPEUSDT  263984.723890\n",
      "4   1000SHIBBUSD    2893.965435\n"
     ]
    }
   ],
   "source": [
    "max=dt.groupby([\"symbol\"], as_index=False).agg({'amount': 'sum'})\n",
    "print(max.head())"
   ],
   "metadata": {
    "collapsed": false,
    "pycharm": {
     "name": "#%%\n"
    }
   }
  },
  {
   "cell_type": "code",
   "execution_count": 9,
   "outputs": [
    {
     "name": "stdout",
     "output_type": "stream",
     "text": [
      "       symbol        amount\n",
      "125   ETHUSDT  1.262850e+07\n",
      "71    BTCUSDT  9.896814e+06\n",
      "122  ETH-USDT  8.750801e+06\n",
      "68   BTC-USDT  5.969829e+06\n",
      "257   SOLUSDT  9.628085e+05\n",
      "69    BTCBUSD  7.591003e+05\n",
      "195  LTC-USDT  7.242947e+05\n",
      "30   APT-USDT  5.285652e+05\n",
      "34   ARB-USDT  5.143595e+05\n",
      "79    CFXUSDT  4.868398e+05\n"
     ]
    }
   ],
   "source": [
    "max=max.sort_values(by=['amount'],ascending=False)\n",
    "print(max.head(10))"
   ],
   "metadata": {
    "collapsed": false,
    "pycharm": {
     "name": "#%%\n"
    }
   }
  },
  {
   "cell_type": "code",
   "execution_count": 11,
   "outputs": [
    {
     "name": "stdout",
     "output_type": "stream",
     "text": [
      "       symbol        amount\n",
      "92    ETHUSDT  2.137930e+07\n",
      "52    BTCUSDT  1.586664e+07\n",
      "147   LTCUSDT  1.038842e+06\n",
      "191   SOLUSDT  9.628085e+05\n",
      "25    ARBUSDT  9.547277e+05\n",
      "58    CFXUSDT  7.700468e+05\n",
      "49    BTCBUSD  7.591003e+05\n",
      "96    FILUSDT  7.276001e+05\n",
      "24    APTUSDT  6.705242e+05\n",
      "79   DOGEUSDT  6.107448e+05\n"
     ]
    }
   ],
   "source": [
    "dt[\"symbol\"]=dt[\"symbol\"].str.replace(\"-\",\"\")\n",
    "max=dt.groupby([\"symbol\"], as_index=False).agg({'amount': 'sum'})\n",
    "max=max.sort_values(by=['amount'],ascending=False)\n",
    "print(max.head(10))"
   ],
   "metadata": {
    "collapsed": false,
    "pycharm": {
     "name": "#%%\n"
    }
   }
  },
  {
   "cell_type": "code",
   "execution_count": 12,
   "outputs": [
    {
     "name": "stdout",
     "output_type": "stream",
     "text": [
      "    broker   symbol  side         price    value                   ts  \\\n",
      "1  binance  ETHUSDT  SELL   1858.090000    0.123  2023-05-11 01:10:02   \n",
      "2  binance  ARBUSDT  SELL      1.165388  912.000  2023-05-11 01:10:02   \n",
      "3  binance  CFXUSDT  SELL      0.260386  729.000  2023-05-11 01:10:02   \n",
      "5  binance  BTCUSDT  SELL  27985.050000    0.347  2023-05-11 01:10:03   \n",
      "6  binance  ETHUSDT  SELL   1858.030000    0.100  2023-05-11 01:10:03   \n",
      "\n",
      "        amount  \n",
      "1   228.545070  \n",
      "2  1062.833856  \n",
      "3   189.821321  \n",
      "5  9710.812350  \n",
      "6   185.803000  \n"
     ]
    }
   ],
   "source": [
    "maxsymbol=['ETHUSDT','BTCUSDT','LTCUSDT','SOLUSDT','ARBUSDT','CFXUSDT','FILUSDT','APTUSDT','DOGEUSDT']\n",
    "dt=dt[dt[\"symbol\"].isin(maxsymbol)]\n",
    "print(dt.head())"
   ],
   "metadata": {
    "collapsed": false,
    "pycharm": {
     "name": "#%%\n"
    }
   }
  },
  {
   "cell_type": "code",
   "execution_count": 13,
   "outputs": [
    {
     "name": "stdout",
     "output_type": "stream",
     "text": [
      "       broker   symbol  side         price     value                   ts  \\\n",
      "1304  binance  ARBUSDT  SELL      1.144635  4166.600  2023-05-11 01:15:08   \n",
      "1306  binance  ETHUSDT  SELL   1842.790000    53.486  2023-05-11 01:15:10   \n",
      "1307  binance  BTCUSDT  SELL  27756.560000     0.027  2023-05-11 01:15:10   \n",
      "1309  binance  ETHUSDT  SELL   1842.690000    47.665  2023-05-11 01:15:11   \n",
      "1310  binance  CFXUSDT  SELL      0.257909  1557.000  2023-05-11 01:15:11   \n",
      "\n",
      "            amount  \n",
      "1304   4769.236191  \n",
      "1306  98563.465940  \n",
      "1307    749.427120  \n",
      "1309  87831.818850  \n",
      "1310    401.564780  \n"
     ]
    }
   ],
   "source": [
    "dt=dt[dt['ts']>'2023-05-11 01:15:']\n",
    "print(dt.head())"
   ],
   "metadata": {
    "collapsed": false,
    "pycharm": {
     "name": "#%%\n"
    }
   }
  },
  {
   "cell_type": "code",
   "execution_count": 16,
   "outputs": [
    {
     "name": "stdout",
     "output_type": "stream",
     "text": [
      "[[1683738900000, '1855.02000000', '1855.38000000', '1790.51000000', '1814.51000000', '94965.20870000', 1683739799999, '172062604.14070500', 101990, '49097.66540000', '88879072.30089100', '0']]\n"
     ]
    }
   ],
   "source": [
    "import requests\n",
    "url = 'https://api.binance.com/api/v3/klines'\n",
    "params= {\"symbol\":\"ETHUSDT\",\"interval\":\"15m\",\"limit\":\"1\",\"startTime\":\"1683738900000\"}\n",
    "response = requests.get(url, params=params)\n",
    "data = response.json()\n",
    "print(data)"
   ],
   "metadata": {
    "collapsed": false,
    "pycharm": {
     "name": "#%%\n"
    }
   }
  },
  {
   "cell_type": "code",
   "execution_count": null,
   "outputs": [],
   "source": [],
   "metadata": {
    "collapsed": false,
    "pycharm": {
     "name": "#%%\n"
    }
   }
  }
 ],
 "metadata": {
  "kernelspec": {
   "display_name": "Python 3",
   "language": "python",
   "name": "python3"
  },
  "language_info": {
   "codemirror_mode": {
    "name": "ipython",
    "version": 2
   },
   "file_extension": ".py",
   "mimetype": "text/x-python",
   "name": "python",
   "nbconvert_exporter": "python",
   "pygments_lexer": "ipython2",
   "version": "2.7.6"
  }
 },
 "nbformat": 4,
 "nbformat_minor": 0
}